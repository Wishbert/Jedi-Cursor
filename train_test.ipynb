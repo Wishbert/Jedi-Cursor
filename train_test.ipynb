{
 "cells": [
  {
   "cell_type": "code",
   "execution_count": 48,
   "metadata": {},
   "outputs": [],
   "source": [
    "import warnings\n",
    "warnings.simplefilter(action='ignore', category=FutureWarning)\n",
    "import os \n",
    "import pandas as pd\n",
    "\n",
    "from sklearn.model_selection import train_test_split"
   ]
  },
  {
   "cell_type": "markdown",
   "metadata": {},
   "source": [
    "## Train Test Split\n",
    "\n",
    "Seperating the image data into different files"
   ]
  },
  {
   "cell_type": "code",
   "execution_count": 31,
   "metadata": {},
   "outputs": [],
   "source": [
    "IMAGE_ANNOTATION_PATH = 'Tensorflow/workspace/images/'"
   ]
  },
  {
   "cell_type": "code",
   "execution_count": 51,
   "metadata": {},
   "outputs": [],
   "source": [
    "image_annotaion_xml_list = os.listdir(IMAGE_ANNOTATION_PATH+'Image-Annotations/Annotations/')"
   ]
  },
  {
   "cell_type": "code",
   "execution_count": 52,
   "metadata": {},
   "outputs": [],
   "source": [
    "image_annotaion_xml_df = pd.DataFrame(image_annotaion_xml_list,columns=['annotation_file_path'])"
   ]
  },
  {
   "cell_type": "code",
   "execution_count": 110,
   "metadata": {},
   "outputs": [],
   "source": [
    "image_annotaion_xml_df['image_label'] = image_annotaion_xml_df.annotation_file_path.apply(lambda x: x.split('.')[0].split('-')[1])"
   ]
  },
  {
   "cell_type": "code",
   "execution_count": 114,
   "metadata": {},
   "outputs": [],
   "source": [
    "image_annotaion_xml_df['image_file_names'] = image_annotaion_xml_df.annotation_file_path.apply(lambda x:x[:-3]+'jpg')"
   ]
  },
  {
   "cell_type": "code",
   "execution_count": 115,
   "metadata": {},
   "outputs": [
    {
     "data": {
      "text/plain": [
       "image_label\n",
       "mouse    20\n",
       "right    20\n",
       "click    18\n",
       "Name: count, dtype: int64"
      ]
     },
     "execution_count": 115,
     "metadata": {},
     "output_type": "execute_result"
    }
   ],
   "source": [
    "image_annotaion_xml_df.image_label.value_counts()"
   ]
  },
  {
   "cell_type": "code",
   "execution_count": 116,
   "metadata": {},
   "outputs": [],
   "source": [
    "labels = image_annotaion_xml_df.image_label.unique()"
   ]
  },
  {
   "cell_type": "code",
   "execution_count": 117,
   "metadata": {},
   "outputs": [],
   "source": [
    "train_dataframe_list = []\n",
    "test_dataframe_list = []\n",
    "for label in labels:\n",
    "    label_group = image_annotaion_xml_df.query(f\"image_label == '{label}'\")\n",
    "    train, test =  train_test_split( label_group, test_size=0.25, random_state=42)\n",
    "    train_dataframe_list.append(train)\n",
    "    test_dataframe_list.append(test)"
   ]
  },
  {
   "cell_type": "code",
   "execution_count": 118,
   "metadata": {},
   "outputs": [],
   "source": [
    "train_data = pd.concat(train_dataframe_list)\n",
    "test_data = pd.concat(test_dataframe_list)"
   ]
  },
  {
   "cell_type": "markdown",
   "metadata": {},
   "source": [
    "## The seperation"
   ]
  },
  {
   "cell_type": "code",
   "execution_count": 119,
   "metadata": {},
   "outputs": [],
   "source": [
    "import shutil"
   ]
  },
  {
   "cell_type": "code",
   "execution_count": 129,
   "metadata": {},
   "outputs": [
    {
     "data": {
      "text/plain": [
       "'jpg'"
      ]
     },
     "execution_count": 129,
     "metadata": {},
     "output_type": "execute_result"
    }
   ],
   "source": [
    "test_data.image_file_names.head(1).values[0][-3:]"
   ]
  },
  {
   "cell_type": "code",
   "execution_count": 130,
   "metadata": {},
   "outputs": [],
   "source": [
    "def move_file(file_name, destination_folder):\n",
    "    if file_name[-3:] == 'xml':\n",
    "        shutil.copy2(\n",
    "            IMAGE_ANNOTATION_PATH+'Image-Annotations/Annotations/'+file_name,\n",
    "            IMAGE_ANNOTATION_PATH+destination_folder #+'/'+file_name\n",
    "        )\n",
    "    else:\n",
    "        shutil.copy2(\n",
    "            IMAGE_ANNOTATION_PATH+'Image-Annotations/images/'+file_name,\n",
    "            IMAGE_ANNOTATION_PATH+destination_folder #+'/'+file_name\n",
    "        )"
   ]
  },
  {
   "cell_type": "code",
   "execution_count": 131,
   "metadata": {},
   "outputs": [],
   "source": [
    "# Moving the annotation files\n",
    "\n",
    "_ = train_data.apply(lambda x: move_file(x.annotation_file_path,'train'), axis=1)\n",
    "_ = test_data.apply(lambda x: move_file(x.annotation_file_path,'test'), axis=1)"
   ]
  },
  {
   "cell_type": "code",
   "execution_count": 132,
   "metadata": {},
   "outputs": [],
   "source": [
    "#moving the images\n",
    "\n",
    "_ = train_data.apply(lambda x: move_file(x.image_file_names,'train'), axis=1)\n",
    "_ = test_data.apply(lambda x: move_file(x.image_file_names,'test'), axis=1)"
   ]
  },
  {
   "cell_type": "code",
   "execution_count": null,
   "metadata": {},
   "outputs": [],
   "source": []
  }
 ],
 "metadata": {
  "kernelspec": {
   "display_name": "base",
   "language": "python",
   "name": "python3"
  },
  "language_info": {
   "codemirror_mode": {
    "name": "ipython",
    "version": 3
   },
   "file_extension": ".py",
   "mimetype": "text/x-python",
   "name": "python",
   "nbconvert_exporter": "python",
   "pygments_lexer": "ipython3",
   "version": "3.11.5"
  }
 },
 "nbformat": 4,
 "nbformat_minor": 2
}
